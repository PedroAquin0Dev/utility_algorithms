{
 "cells": [
  {
   "cell_type": "code",
   "execution_count": null,
   "metadata": {},
   "outputs": [],
   "source": [
    "tables = [\n",
    "    \"tb_dlt_zpm_pmp_bronze\",\n",
    "    \"tb_dlt_zrpm_conformidades_bronze\",\n",
    "    \"tb_dlt_zrpm_durab_pneus_bronze\",\n",
    "    \"tb_dlt_zrpm_frota1_bronze\",\n",
    "    \"tb_dlt_zfiaa001_bronze\",\n",
    "    \"tb_dlt_zik17_bronze\",\n",
    "    \"tb_dlt_zih08_bronze\"\n",
    "]\n",
    "\n",
    "specific_columns = []  # Só preencher se for em campo específicos, caso contrário, será aplicado em todos\n",
    "\n",
    "tags_tabela = (\n",
    "    \"'applicationname'= 'table', 'businessunit'= 'holding', 'environment'= 'prd', \"\n",
    "    \"'ingestiontype'= 'append', 'type'= 'workspace', 'Dados_Pessoais'= 'false', \"\n",
    "    \"'Dados_Sensiveis'= 'false', 'Dados_Anonimizados'= 'false'\"\n",
    ")\n",
    "\n",
    "tags_campo = (\n",
    "    \"'pk'= 'false', 'nullable'= 'false', 'Dado_Pessoal'= 'false', \"\n",
    "    \"'Dado_Sensivel'= 'false', 'Dado_Anonimizado'= 'false'\"\n",
    ")"
   ]
  },
  {
   "cell_type": "code",
   "execution_count": null,
   "metadata": {},
   "outputs": [],
   "source": [
    "def get_table_columns(catalogo, banco, bronze_table):\n",
    "    \"\"\"\n",
    "    Esta função deve retornar uma lista de colunas da tabela.\n",
    "    Você pode adaptar conforme sua necessidade.\n",
    "    \"\"\"\n",
    "    df = spark.sql(f\"SELECT * FROM {catalogo}.{banco}.{bronze_table} LIMIT 1\")\n",
    "    return df.columns"
   ]
  }
 ],
 "metadata": {
  "kernelspec": {
   "display_name": "Python 3",
   "language": "python",
   "name": "python3"
  },
  "language_info": {
   "name": "python",
   "version": "3.9.6"
  }
 },
 "nbformat": 4,
 "nbformat_minor": 2
}
