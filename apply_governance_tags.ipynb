{
 "cells": [
  {
   "cell_type": "code",
   "execution_count": null,
   "metadata": {},
   "outputs": [],
   "source": [
    "tables = [\n",
    "    \"\" #...\n",
    "]\n",
    "\n",
    "catalog = [\n",
    "    \"\" #...\n",
    "]\n",
    "\n",
    "schema = [\n",
    "    \"\" #...\n",
    "]\n",
    "\n",
    "specific_columns = []  # Só preencher se for em campo específicos, caso contrário, será aplicado em todos\n",
    "\n",
    "tags_tabela = (\n",
    "    \"'Application_Name'= 'table', 'Business_Unit'= 'holding', 'Environment'= 'dev', \"\n",
    "    \"'Ingestion_Type'= 'append', 'Type'= 'workspace', 'Personal_Data'= 'false', \"\n",
    "    \"'Sensitive_Data'= 'false', 'Anonymized_Data'= 'false'\"\n",
    ")\n",
    "\n",
    "tags_campo = (\n",
    "    \"'Primary_Key'= 'false', 'Nullable'= 'false', 'Personal_Data'= 'false', \"\n",
    "    \"'Sensitive_Data'= 'false', 'Anonymized_Data'= 'false'\"\n",
    ")"
   ]
  },
  {
   "cell_type": "code",
   "execution_count": null,
   "metadata": {},
   "outputs": [],
   "source": [
    "def get_table_columns(catalog, schema, bronze_table):\n",
    "    \"\"\"\n",
    "    Esta função deve retornar uma lista de colunas da tabela.\n",
    "    Você pode adaptar conforme sua necessidade.\n",
    "    \"\"\"\n",
    "    df = spark.sql(f\"SELECT * FROM {catalog}.{schema}.{bronze_table} LIMIT 1\")\n",
    "    return df.columns"
   ]
  },
  {
   "cell_type": "code",
   "execution_count": null,
   "metadata": {},
   "outputs": [],
   "source": [
    "def apply_steps_to_tables(tables, catalog, schema, tags_tabela, tags_campo, specific_columns=None):\n",
    "    for bronze_table in tables:\n",
    "        columns = get_table_columns(catalog, schema, bronze_table)\n",
    "        \n",
    "        # Se specific_columns for fornecido, use apenas essas colunas\n",
    "        if specific_columns:\n",
    "            columns = [col for col in columns if col in specific_columns]\n",
    "        \n",
    "        # Passo 2\n",
    "        sql = f\"ALTER {catalog}.{schema}.{bronze_table} SET TAGS ({tags_tabela})\"\n",
    "        print(sql)\n",
    "        spark.sql(sql)\n",
    "\n",
    "        # Passo 3\n",
    "        for column in columns:\n",
    "            sql = f\"ALTER TABLE {catalog}.{schema}.{bronze_table} ALTER COLUMN {column} SET TAGS ({tags_campo})\"\n",
    "            print(sql)\n",
    "            spark.sql(sql)"
   ]
  },
  {
   "cell_type": "code",
   "execution_count": null,
   "metadata": {},
   "outputs": [],
   "source": [
    "apply_steps_to_tables(tables, catalog, schema, tags_tabela, tags_campo, specific_columns)"
   ]
  }
 ],
 "metadata": {
  "kernelspec": {
   "display_name": "Python 3 (ipykernel)",
   "language": "python",
   "name": "python3"
  },
  "language_info": {
   "codemirror_mode": {
    "name": "ipython",
    "version": 3
   },
   "file_extension": ".py",
   "mimetype": "text/x-python",
   "name": "python",
   "nbconvert_exporter": "python",
   "pygments_lexer": "ipython3",
   "version": "3.12.4"
  }
 },
 "nbformat": 4,
 "nbformat_minor": 4
}
