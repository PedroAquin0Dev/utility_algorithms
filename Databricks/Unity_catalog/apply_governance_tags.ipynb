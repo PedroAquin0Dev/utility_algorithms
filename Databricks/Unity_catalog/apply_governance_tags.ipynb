{
 "cells": [
  {
   "cell_type": "markdown",
   "metadata": {},
   "source": [
    "# Table and Column Tagging Project\n",
    "\n",
    "## Description\n",
    "This project aims to apply specific tags to tables and columns in a data catalog. Tags are used to categorize and describe data uniformly, facilitating data governance and management.\n",
    "\n",
    "## Project Structure\n",
    "The notebook is structured as follows:\n",
    "1. **Variable Definitions**: Definition of tables, catalog, schema, and specific columns (if any).\n",
    "2. **`apply_steps_to_tables` Function**: Function that applies tags to the tables and columns as defined.\n",
    "3. **Function Execution**: Calling the `apply_steps_to_tables` function to apply the tags.\n",
    "\n",
    "## Dependencies\n",
    "- `pyspark`: Library used to execute SQL commands in Spark.\n"
   ]
  },
  {
   "cell_type": "code",
   "execution_count": null,
   "metadata": {},
   "outputs": [],
   "source": [
    "tables = [\n",
    "    \"\" #...\n",
    "]\n",
    "\n",
    "catalog = [\n",
    "    \"\" #...\n",
    "]\n",
    "\n",
    "schema = [\n",
    "    \"\" #...\n",
    "]\n",
    "\n",
    "specific_columns = []  # Fill in case to run in specific columns\n",
    "\n",
    "tables_tags = (\n",
    "    \"'Application_Name'= 'table', 'Business_Unit'= 'holding', 'Environment'= 'dev', \"\n",
    "    \"'Ingestion_Type'= 'append', 'Type'= 'workspace', 'Personal_Data'= 'false', \"\n",
    "    \"'Sensitive_Data'= 'false', 'Anonymized_Data'= 'false'\"\n",
    ")\n",
    "\n",
    "field_tags = (\n",
    "    \"'Primary_Key'= 'false', 'Nullable'= 'false', 'Personal_Data'= 'false', \"\n",
    "    \"'Sensitive_Data'= 'false', 'Anonymized_Data'= 'false'\"\n",
    ")"
   ]
  },
  {
   "cell_type": "code",
   "execution_count": null,
   "metadata": {},
   "outputs": [],
   "source": [
    "def get_table_columns(catalog, schema, bronze_table):\n",
    "    \"\"\"\n",
    "    Esta função deve retornar uma lista de colunas da tabela.\n",
    "    Você pode adaptar conforme sua necessidade.\n",
    "    \"\"\"\n",
    "    df = spark.sql(f\"SELECT * FROM {catalog}.{schema}.{bronze_table} LIMIT 1\")\n",
    "    return df.columns"
   ]
  },
  {
   "cell_type": "code",
   "execution_count": null,
   "metadata": {},
   "outputs": [],
   "source": [
    "def apply_steps_to_tables(tables, catalog, schema, tables_tags, field_tags, specific_columns=None):\n",
    "    for bronze_table in tables:\n",
    "        columns = get_table_columns(catalog, schema, bronze_table)\n",
    "        \n",
    "        if specific_columns:\n",
    "            columns = [col for col in columns if col in specific_columns]\n",
    "        \n",
    "        sql = f\"ALTER {catalog}.{schema}.{bronze_table} SET TAGS ({tables_tags})\"\n",
    "        print(sql)\n",
    "        spark.sql(sql)\n",
    "\n",
    "        # Passo 3\n",
    "        for column in columns:\n",
    "            sql = f\"ALTER TABLE {catalog}.{schema}.{bronze_table} ALTER COLUMN {column} SET TAGS ({field_tags})\"\n",
    "            print(sql)\n",
    "            spark.sql(sql)"
   ]
  },
  {
   "cell_type": "code",
   "execution_count": null,
   "metadata": {},
   "outputs": [],
   "source": [
    "apply_steps_to_tables(tables, catalog, schema, tables_tags, field_tags, specific_columns)"
   ]
  }
 ],
 "metadata": {
  "kernelspec": {
   "display_name": "Python 3 (ipykernel)",
   "language": "python",
   "name": "python3"
  },
  "language_info": {
   "codemirror_mode": {
    "name": "ipython",
    "version": 3
   },
   "file_extension": ".py",
   "mimetype": "text/x-python",
   "name": "python",
   "nbconvert_exporter": "python",
   "pygments_lexer": "ipython3",
   "version": "3.12.4"
  }
 },
 "nbformat": 4,
 "nbformat_minor": 4
}
